{
 "cells": [
  {
   "cell_type": "markdown",
   "source": [
    "# SQL Tasks for cadidate\n",
    "\n",
    "## Notice\n",
    "\n",
    "### Using stake\n",
    "- Interpetator used: Python 3.11\n",
    "- SQL Dialect: SQLite\n",
    "\n",
    "### General info\n",
    "- Today is 01.09.2023\n",
    "- Datasets is representation of two groups of clients with debts, active or closed.\n",
    "\n",
    "### Data\n",
    "#### Overdraft\n",
    "- Dataframe: overdraft_test_data.csv\n",
    "- Columns: client_id, fromdate, todate, ovrdduration, debt\n",
    "\n",
    "#### Credit\n",
    "- Dataframe: credit_test_data.csv\n",
    "- Columns: client_id, fromdate, todate, ovrdduration, debt\n",
    "\n",
    "*in description, we will assume data types as it is real SQL Table or View.*\n",
    "DESCRIPTION IS FOR BOTH DATASETS\n",
    "- Description:\n",
    "    - **CLIENT_ID (INTEGER):**\n",
    "      unique client identification, key to credit_test_data\n",
    "    - **FROMDATE (INTEGER):**\n",
    "      date start for client account with overdraft (Using INTEGER due to SQLite restrictions, assume DATE)\n",
    "    - **PLAN_TODATE (INTEGER):**\n",
    "      date where client obliged to close the debt (Using INTEGER due to SQLite restrictions, assume DATE)\n",
    "    - **TODATE (INTEGER):**\n",
    "      date end for client account with overdraft (Using INTEGER due to SQLite restrictions, assume DATE)\n",
    "      if still active debt - NaT or more then today date\n",
    "    - **DEBT (REAL):**\n",
    "      sum of debt owed by client\n",
    "    - **CREDIT_TYPE (TEXT):**\n",
    "      'type_0' for overdraft\n",
    "      'type_1' for credit"
   ],
   "metadata": {
    "collapsed": false
   },
   "id": "764f33565e1a0384"
  },
  {
   "cell_type": "code",
   "outputs": [],
   "source": [
    "import pandas as pd\n",
    "import pandasql as ps\n",
    "from check_answers import *"
   ],
   "metadata": {
    "collapsed": false,
    "ExecuteTime": {
     "end_time": "2024-02-26T13:54:31.969454Z",
     "start_time": "2024-02-26T13:54:30.812411Z"
    }
   },
   "id": "e0fd4361b86bbd37",
   "execution_count": 1
  },
  {
   "cell_type": "code",
   "outputs": [
    {
     "data": {
      "text/plain": "   client_id                    fromdate                 plan_todate  \\\n0          0  2022-06-14 00:00:00.000000  2022-11-21 00:00:00.000000   \n1          1  2022-08-10 00:00:00.000000  2022-12-08 00:00:00.000000   \n2          2  2022-08-29 00:00:00.000000  2022-11-28 00:00:00.000000   \n3          3  2022-02-25 00:00:00.000000  2022-12-05 00:00:00.000000   \n4          4  2022-09-13 00:00:00.000000  2022-11-28 00:00:00.000000   \n\n                       todate       debt credit_type  \n0  2023-06-09 00:00:00.000000  123631.34      type_0  \n1  2023-08-04 00:00:00.000000       0.00      type_0  \n2  2023-08-24 00:00:00.000000       0.00      type_0  \n3  2023-02-24 00:00:00.000000       0.00      type_0  \n4  2023-09-08 00:00:00.000000       0.00      type_0  ",
      "text/html": "<div>\n<style scoped>\n    .dataframe tbody tr th:only-of-type {\n        vertical-align: middle;\n    }\n\n    .dataframe tbody tr th {\n        vertical-align: top;\n    }\n\n    .dataframe thead th {\n        text-align: right;\n    }\n</style>\n<table border=\"1\" class=\"dataframe\">\n  <thead>\n    <tr style=\"text-align: right;\">\n      <th></th>\n      <th>client_id</th>\n      <th>fromdate</th>\n      <th>plan_todate</th>\n      <th>todate</th>\n      <th>debt</th>\n      <th>credit_type</th>\n    </tr>\n  </thead>\n  <tbody>\n    <tr>\n      <th>0</th>\n      <td>0</td>\n      <td>2022-06-14 00:00:00.000000</td>\n      <td>2022-11-21 00:00:00.000000</td>\n      <td>2023-06-09 00:00:00.000000</td>\n      <td>123631.34</td>\n      <td>type_0</td>\n    </tr>\n    <tr>\n      <th>1</th>\n      <td>1</td>\n      <td>2022-08-10 00:00:00.000000</td>\n      <td>2022-12-08 00:00:00.000000</td>\n      <td>2023-08-04 00:00:00.000000</td>\n      <td>0.00</td>\n      <td>type_0</td>\n    </tr>\n    <tr>\n      <th>2</th>\n      <td>2</td>\n      <td>2022-08-29 00:00:00.000000</td>\n      <td>2022-11-28 00:00:00.000000</td>\n      <td>2023-08-24 00:00:00.000000</td>\n      <td>0.00</td>\n      <td>type_0</td>\n    </tr>\n    <tr>\n      <th>3</th>\n      <td>3</td>\n      <td>2022-02-25 00:00:00.000000</td>\n      <td>2022-12-05 00:00:00.000000</td>\n      <td>2023-02-24 00:00:00.000000</td>\n      <td>0.00</td>\n      <td>type_0</td>\n    </tr>\n    <tr>\n      <th>4</th>\n      <td>4</td>\n      <td>2022-09-13 00:00:00.000000</td>\n      <td>2022-11-28 00:00:00.000000</td>\n      <td>2023-09-08 00:00:00.000000</td>\n      <td>0.00</td>\n      <td>type_0</td>\n    </tr>\n  </tbody>\n</table>\n</div>"
     },
     "execution_count": 2,
     "metadata": {},
     "output_type": "execute_result"
    }
   ],
   "source": [
    "overdraft_df = pd.read_csv(\n",
    "    'assets/overdraft_test_data.csv', \n",
    "    index_col=0,\n",
    "    dtype={\n",
    "        'client_id': 'int',\n",
    "        'debt': 'float',\n",
    "        'credit_type': 'str'\n",
    "    }\n",
    ")\n",
    "for col in ['fromdate', 'todate', 'plan_todate']:\n",
    "    overdraft_df[col] = pd.to_datetime(overdraft_df[col])\n",
    "\n",
    "ps.sqldf(\n",
    "    '''\n",
    "    SELECT OD.*\n",
    "    FROM overdraft_df OD\n",
    "    LIMIT 5\n",
    "    ''', locals()\n",
    ")"
   ],
   "metadata": {
    "collapsed": true,
    "ExecuteTime": {
     "end_time": "2024-02-26T13:54:35.177551Z",
     "start_time": "2024-02-26T13:54:31.971606Z"
    }
   },
   "id": "initial_id",
   "execution_count": 2
  },
  {
   "cell_type": "code",
   "outputs": [
    {
     "data": {
      "text/plain": "   client_id                    fromdate                 plan_todate todate  \\\n0          0  2022-10-14 00:00:00.000000  2025-10-14 00:00:00.000000   None   \n1          1  2022-07-14 00:00:00.000000  2025-07-14 00:00:00.000000   None   \n2          2  2022-11-14 00:00:00.000000  2025-11-14 00:00:00.000000   None   \n3          3  2022-09-14 00:00:00.000000  2025-09-12 00:00:00.000000   None   \n4          4  2022-12-14 00:00:00.000000  2025-12-12 00:00:00.000000   None   \n\n   debt credit_type  \n0   0.0      type_1  \n1   0.0      type_1  \n2   0.0      type_1  \n3   0.0      type_1  \n4   0.0      type_1  ",
      "text/html": "<div>\n<style scoped>\n    .dataframe tbody tr th:only-of-type {\n        vertical-align: middle;\n    }\n\n    .dataframe tbody tr th {\n        vertical-align: top;\n    }\n\n    .dataframe thead th {\n        text-align: right;\n    }\n</style>\n<table border=\"1\" class=\"dataframe\">\n  <thead>\n    <tr style=\"text-align: right;\">\n      <th></th>\n      <th>client_id</th>\n      <th>fromdate</th>\n      <th>plan_todate</th>\n      <th>todate</th>\n      <th>debt</th>\n      <th>credit_type</th>\n    </tr>\n  </thead>\n  <tbody>\n    <tr>\n      <th>0</th>\n      <td>0</td>\n      <td>2022-10-14 00:00:00.000000</td>\n      <td>2025-10-14 00:00:00.000000</td>\n      <td>None</td>\n      <td>0.0</td>\n      <td>type_1</td>\n    </tr>\n    <tr>\n      <th>1</th>\n      <td>1</td>\n      <td>2022-07-14 00:00:00.000000</td>\n      <td>2025-07-14 00:00:00.000000</td>\n      <td>None</td>\n      <td>0.0</td>\n      <td>type_1</td>\n    </tr>\n    <tr>\n      <th>2</th>\n      <td>2</td>\n      <td>2022-11-14 00:00:00.000000</td>\n      <td>2025-11-14 00:00:00.000000</td>\n      <td>None</td>\n      <td>0.0</td>\n      <td>type_1</td>\n    </tr>\n    <tr>\n      <th>3</th>\n      <td>3</td>\n      <td>2022-09-14 00:00:00.000000</td>\n      <td>2025-09-12 00:00:00.000000</td>\n      <td>None</td>\n      <td>0.0</td>\n      <td>type_1</td>\n    </tr>\n    <tr>\n      <th>4</th>\n      <td>4</td>\n      <td>2022-12-14 00:00:00.000000</td>\n      <td>2025-12-12 00:00:00.000000</td>\n      <td>None</td>\n      <td>0.0</td>\n      <td>type_1</td>\n    </tr>\n  </tbody>\n</table>\n</div>"
     },
     "execution_count": 3,
     "metadata": {},
     "output_type": "execute_result"
    }
   ],
   "source": [
    "credit_df = pd.read_csv(\n",
    "    'assets/credit_test_data.csv', \n",
    "    index_col=0,\n",
    "    dtype={\n",
    "        'client_id': 'int',\n",
    "        'debt': 'float',\n",
    "        'credit_type': 'str'\n",
    "    }\n",
    ")\n",
    "for col in ['fromdate', 'todate', 'plan_todate']:\n",
    "    credit_df[col] = pd.to_datetime(credit_df[col])\n",
    "    \n",
    "ps.sqldf(\n",
    "    '''\n",
    "    SELECT CD.*\n",
    "    FROM credit_df CD\n",
    "    LIMIT 5\n",
    "    ''', locals()\n",
    ")"
   ],
   "metadata": {
    "collapsed": false,
    "ExecuteTime": {
     "end_time": "2024-02-26T13:54:35.354453Z",
     "start_time": "2024-02-26T13:54:35.172153Z"
    }
   },
   "id": "6cbe3d01052c576",
   "execution_count": 3
  },
  {
   "cell_type": "markdown",
   "source": [
    "# TASK #0\n",
    "Assume that we using postgreSQL db for the moment, with sqlalchemy as lib to create engine.\n",
    "Below is data for connect, your task is to create connection string from it.\n",
    "\n",
    "NOTICE - you will use engine creation function as it already imported. No need to import again"
   ],
   "metadata": {
    "collapsed": false
   },
   "id": "37ca7335fa7af899"
  },
  {
   "cell_type": "code",
   "outputs": [],
   "source": [
    "# GIVEN DATA\n",
    "\n",
    "DD: str = 'postgresql+psycopg2' # dialect and driver\n",
    "USERNAME: str = 'candidate'\n",
    "PASSWORD: str = 'simplepass'\n",
    "HOST: str = 'localhost'\n",
    "PORT: str = '5432'\n",
    "DATABASE: str = 'db'"
   ],
   "metadata": {
    "collapsed": false,
    "ExecuteTime": {
     "end_time": "2024-02-26T13:54:35.355334Z",
     "start_time": "2024-02-26T13:54:35.350172Z"
    }
   },
   "id": "ae2e50f1cfbcd173",
   "execution_count": 4
  },
  {
   "cell_type": "code",
   "outputs": [],
   "source": [
    "# # UNCOMMENT AND ENTER YOUR SOLUTION AND RUN TO CHECK THE ANSWER\n",
    "# create_engine(f'''''')"
   ],
   "metadata": {
    "collapsed": false,
    "ExecuteTime": {
     "end_time": "2024-02-26T13:54:35.365365Z",
     "start_time": "2024-02-26T13:54:35.355816Z"
    }
   },
   "id": "9d2567d15f6c1300",
   "execution_count": 5
  },
  {
   "cell_type": "markdown",
   "source": [
    "## TASK #1\n",
    "Calculate overduration for each debt (each row) with rules as:\n",
    "1. ONE QUERY\n",
    "2. Date is TODAY (see general description)"
   ],
   "metadata": {
    "collapsed": false
   },
   "id": "d22a8505118436ef"
  },
  {
   "cell_type": "code",
   "outputs": [],
   "source": [
    "# # UNCOMMENT AND ENTER YOUR SOLUTION\n",
    "# answer_df_1: pd.DataFrame = ps.sqldf(\n",
    "#     '''\n",
    "#     \n",
    "#     ''', locals()\n",
    "# )\n",
    "# answer_df_1"
   ],
   "metadata": {
    "collapsed": false,
    "ExecuteTime": {
     "end_time": "2024-02-26T13:54:35.365970Z",
     "start_time": "2024-02-26T13:54:35.359610Z"
    }
   },
   "id": "1e37aa95696a4f20",
   "execution_count": 6
  },
  {
   "cell_type": "code",
   "outputs": [],
   "source": [
    "# # UNCOMMENT AND RUN TO CHECK THE RESULTS\n",
    "# \n",
    "# check_answer_one(answer_df=answer_df_1)"
   ],
   "metadata": {
    "collapsed": false,
    "ExecuteTime": {
     "end_time": "2024-02-26T13:54:35.367692Z",
     "start_time": "2024-02-26T13:54:35.363370Z"
    }
   },
   "id": "b3238e9f298d58e",
   "execution_count": 7
  },
  {
   "cell_type": "markdown",
   "source": [
    "## TASK #2\n",
    "\n",
    "Using data from Task #1 find:\n",
    "  - debts in different credit types with max overdduration. **NAME COL \"MAX_OVRD\"**\n",
    "  - this debts must have fromdate after 31.12.2022\n",
    "  - for result df add row numbers. **NAME COL \"ROW_NUM\"**"
   ],
   "metadata": {
    "collapsed": false
   },
   "id": "6c3b8fb1eb2db8cd"
  },
  {
   "cell_type": "code",
   "outputs": [],
   "source": [
    "# answer_df_2: pd.DataFrame = ps.sqldf(\n",
    "#     '''\n",
    "#     \n",
    "#     ''', locals()\n",
    "# )\n",
    "# answer_df_2"
   ],
   "metadata": {
    "collapsed": false,
    "ExecuteTime": {
     "end_time": "2024-02-26T13:54:35.381653Z",
     "start_time": "2024-02-26T13:54:35.367253Z"
    }
   },
   "id": "fa8d2f9d45244e4a",
   "execution_count": 8
  },
  {
   "cell_type": "code",
   "outputs": [],
   "source": [
    "# # UNCOMMENT AND RUN TO CHECK THE RESULTS\n",
    "# \n",
    "# check_answer_two(answer_df=answer_df_2)"
   ],
   "metadata": {
    "collapsed": false,
    "ExecuteTime": {
     "end_time": "2024-02-26T13:54:35.394240Z",
     "start_time": "2024-02-26T13:54:35.370310Z"
    }
   },
   "id": "58669c609cac04d2",
   "execution_count": 9
  },
  {
   "cell_type": "markdown",
   "source": [
    "## TASK #3\n",
    "Query all unique clients from answer_df_1 which have id that starts with **3** and end with **5** with any length of id.\n",
    "ORDER BY THIS ID."
   ],
   "metadata": {
    "collapsed": false
   },
   "id": "2601165e2f9533ec"
  },
  {
   "cell_type": "code",
   "outputs": [],
   "source": [
    "# answer_df_3: pd.DataFrame = ps.sqldf(\n",
    "#     '''\n",
    "#     \n",
    "#     ''', locals()\n",
    "# )\n",
    "# answer_df_3"
   ],
   "metadata": {
    "collapsed": false,
    "ExecuteTime": {
     "end_time": "2024-02-26T13:54:35.394761Z",
     "start_time": "2024-02-26T13:54:35.374276Z"
    }
   },
   "id": "bdc948b496f68e84",
   "execution_count": 10
  },
  {
   "cell_type": "code",
   "outputs": [],
   "source": [
    "# # UNCOMMENT AND RUN TO CHECK THE RESULTS\n",
    "# \n",
    "# check_answer_three(answer_df=answer_df_3)"
   ],
   "metadata": {
    "collapsed": false,
    "ExecuteTime": {
     "end_time": "2024-02-26T13:54:35.395168Z",
     "start_time": "2024-02-26T13:54:35.378027Z"
    }
   },
   "id": "2a11f9105405b5c6",
   "execution_count": 11
  },
  {
   "cell_type": "code",
   "outputs": [],
   "source": [],
   "metadata": {
    "collapsed": false,
    "ExecuteTime": {
     "end_time": "2024-02-26T13:54:35.396311Z",
     "start_time": "2024-02-26T13:54:35.382169Z"
    }
   },
   "id": "ba02841ddf6844df",
   "execution_count": 11
  }
 ],
 "metadata": {
  "kernelspec": {
   "display_name": "Python 3",
   "language": "python",
   "name": "python3"
  },
  "language_info": {
   "codemirror_mode": {
    "name": "ipython",
    "version": 2
   },
   "file_extension": ".py",
   "mimetype": "text/x-python",
   "name": "python",
   "nbconvert_exporter": "python",
   "pygments_lexer": "ipython2",
   "version": "2.7.6"
  }
 },
 "nbformat": 4,
 "nbformat_minor": 5
}
